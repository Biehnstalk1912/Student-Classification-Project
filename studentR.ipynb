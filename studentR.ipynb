{
 "cells": [
  {
   "cell_type": "code",
   "execution_count": 2,
   "id": "c4d09f6d",
   "metadata": {
    "vscode": {
     "languageId": "r"
    }
   },
   "outputs": [
    {
     "name": "stderr",
     "output_type": "stream",
     "text": [
      "\u001b[1mRows: \u001b[22m\u001b[34m140\u001b[39m \u001b[1mColumns: \u001b[22m\u001b[34m9\u001b[39m\n",
      "\u001b[36m──\u001b[39m \u001b[1mColumn specification\u001b[22m \u001b[36m────────────────────────────────────────────────────────\u001b[39m\n",
      "\u001b[1mDelimiter:\u001b[22m \",\"\n",
      "\u001b[31mchr\u001b[39m (5): Timestamp, Your Academic Stage, Study Environment, What coping stra...\n",
      "\u001b[32mdbl\u001b[39m (4): Peer pressure, Academic pressure from your home, What would you rat...\n",
      "\n",
      "\u001b[36mℹ\u001b[39m Use `spec()` to retrieve the full column specification for this data.\n",
      "\u001b[36mℹ\u001b[39m Specify the column types or set `show_col_types = FALSE` to quiet this message.\n"
     ]
    },
    {
     "data": {
      "text/html": [
       "<table class=\"dataframe\">\n",
       "<caption>A tibble: 5 × 9</caption>\n",
       "<thead>\n",
       "\t<tr><th scope=col>Timestamp</th><th scope=col>Your Academic Stage</th><th scope=col>Peer pressure</th><th scope=col>Academic pressure from your home</th><th scope=col>Study Environment</th><th scope=col>What coping strategy you use as a student?</th><th scope=col>Do you have any bad habits like smoking, drinking on a daily basis?</th><th scope=col>What would you rate the academic  competition in your student life</th><th scope=col>Rate your academic stress index</th></tr>\n",
       "\t<tr><th scope=col>&lt;chr&gt;</th><th scope=col>&lt;chr&gt;</th><th scope=col>&lt;dbl&gt;</th><th scope=col>&lt;dbl&gt;</th><th scope=col>&lt;chr&gt;</th><th scope=col>&lt;chr&gt;</th><th scope=col>&lt;chr&gt;</th><th scope=col>&lt;dbl&gt;</th><th scope=col>&lt;dbl&gt;</th></tr>\n",
       "</thead>\n",
       "<tbody>\n",
       "\t<tr><td>24/07/2025 22:05:39</td><td>undergraduate</td><td>4</td><td>5</td><td>Noisy   </td><td>Analyze the situation and handle it with intellect</td><td>No</td><td>3</td><td>5</td></tr>\n",
       "\t<tr><td>24/07/2025 22:05:52</td><td>undergraduate</td><td>3</td><td>4</td><td>Peaceful</td><td>Analyze the situation and handle it with intellect</td><td>No</td><td>3</td><td>3</td></tr>\n",
       "\t<tr><td>24/07/2025 22:06:39</td><td>undergraduate</td><td>1</td><td>1</td><td>Peaceful</td><td>Social support (friends, family)                  </td><td>No</td><td>2</td><td>4</td></tr>\n",
       "\t<tr><td>24/07/2025 22:06:45</td><td>undergraduate</td><td>3</td><td>2</td><td>Peaceful</td><td>Analyze the situation and handle it with intellect</td><td>No</td><td>4</td><td>3</td></tr>\n",
       "\t<tr><td>24/07/2025 22:08:06</td><td>undergraduate</td><td>3</td><td>3</td><td>Peaceful</td><td>Analyze the situation and handle it with intellect</td><td>No</td><td>4</td><td>5</td></tr>\n",
       "</tbody>\n",
       "</table>\n"
      ],
      "text/latex": [
       "A tibble: 5 × 9\n",
       "\\begin{tabular}{lllllllll}\n",
       " Timestamp & Your Academic Stage & Peer pressure & Academic pressure from your home & Study Environment & What coping strategy you use as a student? & Do you have any bad habits like smoking, drinking on a daily basis? & What would you rate the academic  competition in your student life & Rate your academic stress index\\\\\n",
       " <chr> & <chr> & <dbl> & <dbl> & <chr> & <chr> & <chr> & <dbl> & <dbl>\\\\\n",
       "\\hline\n",
       "\t 24/07/2025 22:05:39 & undergraduate & 4 & 5 & Noisy    & Analyze the situation and handle it with intellect & No & 3 & 5\\\\\n",
       "\t 24/07/2025 22:05:52 & undergraduate & 3 & 4 & Peaceful & Analyze the situation and handle it with intellect & No & 3 & 3\\\\\n",
       "\t 24/07/2025 22:06:39 & undergraduate & 1 & 1 & Peaceful & Social support (friends, family)                   & No & 2 & 4\\\\\n",
       "\t 24/07/2025 22:06:45 & undergraduate & 3 & 2 & Peaceful & Analyze the situation and handle it with intellect & No & 4 & 3\\\\\n",
       "\t 24/07/2025 22:08:06 & undergraduate & 3 & 3 & Peaceful & Analyze the situation and handle it with intellect & No & 4 & 5\\\\\n",
       "\\end{tabular}\n"
      ],
      "text/markdown": [
       "\n",
       "A tibble: 5 × 9\n",
       "\n",
       "| Timestamp &lt;chr&gt; | Your Academic Stage &lt;chr&gt; | Peer pressure &lt;dbl&gt; | Academic pressure from your home &lt;dbl&gt; | Study Environment &lt;chr&gt; | What coping strategy you use as a student? &lt;chr&gt; | Do you have any bad habits like smoking, drinking on a daily basis? &lt;chr&gt; | What would you rate the academic  competition in your student life &lt;dbl&gt; | Rate your academic stress index &lt;dbl&gt; |\n",
       "|---|---|---|---|---|---|---|---|---|\n",
       "| 24/07/2025 22:05:39 | undergraduate | 4 | 5 | Noisy    | Analyze the situation and handle it with intellect | No | 3 | 5 |\n",
       "| 24/07/2025 22:05:52 | undergraduate | 3 | 4 | Peaceful | Analyze the situation and handle it with intellect | No | 3 | 3 |\n",
       "| 24/07/2025 22:06:39 | undergraduate | 1 | 1 | Peaceful | Social support (friends, family)                   | No | 2 | 4 |\n",
       "| 24/07/2025 22:06:45 | undergraduate | 3 | 2 | Peaceful | Analyze the situation and handle it with intellect | No | 4 | 3 |\n",
       "| 24/07/2025 22:08:06 | undergraduate | 3 | 3 | Peaceful | Analyze the situation and handle it with intellect | No | 4 | 5 |\n",
       "\n"
      ],
      "text/plain": [
       "  Timestamp           Your Academic Stage Peer pressure\n",
       "1 24/07/2025 22:05:39 undergraduate       4            \n",
       "2 24/07/2025 22:05:52 undergraduate       3            \n",
       "3 24/07/2025 22:06:39 undergraduate       1            \n",
       "4 24/07/2025 22:06:45 undergraduate       3            \n",
       "5 24/07/2025 22:08:06 undergraduate       3            \n",
       "  Academic pressure from your home Study Environment\n",
       "1 5                                Noisy            \n",
       "2 4                                Peaceful         \n",
       "3 1                                Peaceful         \n",
       "4 2                                Peaceful         \n",
       "5 3                                Peaceful         \n",
       "  What coping strategy you use as a student?        \n",
       "1 Analyze the situation and handle it with intellect\n",
       "2 Analyze the situation and handle it with intellect\n",
       "3 Social support (friends, family)                  \n",
       "4 Analyze the situation and handle it with intellect\n",
       "5 Analyze the situation and handle it with intellect\n",
       "  Do you have any bad habits like smoking, drinking on a daily basis?\n",
       "1 No                                                                 \n",
       "2 No                                                                 \n",
       "3 No                                                                 \n",
       "4 No                                                                 \n",
       "5 No                                                                 \n",
       "  What would you rate the academic  competition in your student life\n",
       "1 3                                                                 \n",
       "2 3                                                                 \n",
       "3 2                                                                 \n",
       "4 4                                                                 \n",
       "5 4                                                                 \n",
       "  Rate your academic stress index\n",
       "1 5                              \n",
       "2 3                              \n",
       "3 4                              \n",
       "4 3                              \n",
       "5 5                              "
      ]
     },
     "metadata": {},
     "output_type": "display_data"
    }
   ],
   "source": [
    "warning = FALSE\n",
    "library(tidyverse)\n",
    "library(mosaic)\n",
    "data <- read_csv(\"academicStressLevel.csv\")\n",
    "head(data, 5)"
   ]
  },
  {
   "cell_type": "code",
   "execution_count": 3,
   "id": "d62b354d",
   "metadata": {
    "vscode": {
     "languageId": "r"
    }
   },
   "outputs": [
    {
     "data": {
      "text/html": [
       "<table class=\"dataframe\">\n",
       "<caption>A tibble: 5 × 9</caption>\n",
       "<thead>\n",
       "\t<tr><th scope=col>timeStamp</th><th scope=col>schoolYear</th><th scope=col>peerPressure</th><th scope=col>homePressure</th><th scope=col>studyEnvironment</th><th scope=col>copingStrategy</th><th scope=col>badHabits</th><th scope=col>academicCompetition</th><th scope=col>stressIndex</th></tr>\n",
       "\t<tr><th scope=col>&lt;chr&gt;</th><th scope=col>&lt;chr&gt;</th><th scope=col>&lt;dbl&gt;</th><th scope=col>&lt;dbl&gt;</th><th scope=col>&lt;chr&gt;</th><th scope=col>&lt;chr&gt;</th><th scope=col>&lt;chr&gt;</th><th scope=col>&lt;dbl&gt;</th><th scope=col>&lt;dbl&gt;</th></tr>\n",
       "</thead>\n",
       "<tbody>\n",
       "\t<tr><td>24/07/2025 22:05:39</td><td>undergraduate</td><td>4</td><td>5</td><td>Noisy   </td><td>Analyze the situation and handle it with intellect</td><td>No</td><td>3</td><td>5</td></tr>\n",
       "\t<tr><td>24/07/2025 22:05:52</td><td>undergraduate</td><td>3</td><td>4</td><td>Peaceful</td><td>Analyze the situation and handle it with intellect</td><td>No</td><td>3</td><td>3</td></tr>\n",
       "\t<tr><td>24/07/2025 22:06:39</td><td>undergraduate</td><td>1</td><td>1</td><td>Peaceful</td><td>Social support (friends, family)                  </td><td>No</td><td>2</td><td>4</td></tr>\n",
       "\t<tr><td>24/07/2025 22:06:45</td><td>undergraduate</td><td>3</td><td>2</td><td>Peaceful</td><td>Analyze the situation and handle it with intellect</td><td>No</td><td>4</td><td>3</td></tr>\n",
       "\t<tr><td>24/07/2025 22:08:06</td><td>undergraduate</td><td>3</td><td>3</td><td>Peaceful</td><td>Analyze the situation and handle it with intellect</td><td>No</td><td>4</td><td>5</td></tr>\n",
       "</tbody>\n",
       "</table>\n"
      ],
      "text/latex": [
       "A tibble: 5 × 9\n",
       "\\begin{tabular}{lllllllll}\n",
       " timeStamp & schoolYear & peerPressure & homePressure & studyEnvironment & copingStrategy & badHabits & academicCompetition & stressIndex\\\\\n",
       " <chr> & <chr> & <dbl> & <dbl> & <chr> & <chr> & <chr> & <dbl> & <dbl>\\\\\n",
       "\\hline\n",
       "\t 24/07/2025 22:05:39 & undergraduate & 4 & 5 & Noisy    & Analyze the situation and handle it with intellect & No & 3 & 5\\\\\n",
       "\t 24/07/2025 22:05:52 & undergraduate & 3 & 4 & Peaceful & Analyze the situation and handle it with intellect & No & 3 & 3\\\\\n",
       "\t 24/07/2025 22:06:39 & undergraduate & 1 & 1 & Peaceful & Social support (friends, family)                   & No & 2 & 4\\\\\n",
       "\t 24/07/2025 22:06:45 & undergraduate & 3 & 2 & Peaceful & Analyze the situation and handle it with intellect & No & 4 & 3\\\\\n",
       "\t 24/07/2025 22:08:06 & undergraduate & 3 & 3 & Peaceful & Analyze the situation and handle it with intellect & No & 4 & 5\\\\\n",
       "\\end{tabular}\n"
      ],
      "text/markdown": [
       "\n",
       "A tibble: 5 × 9\n",
       "\n",
       "| timeStamp &lt;chr&gt; | schoolYear &lt;chr&gt; | peerPressure &lt;dbl&gt; | homePressure &lt;dbl&gt; | studyEnvironment &lt;chr&gt; | copingStrategy &lt;chr&gt; | badHabits &lt;chr&gt; | academicCompetition &lt;dbl&gt; | stressIndex &lt;dbl&gt; |\n",
       "|---|---|---|---|---|---|---|---|---|\n",
       "| 24/07/2025 22:05:39 | undergraduate | 4 | 5 | Noisy    | Analyze the situation and handle it with intellect | No | 3 | 5 |\n",
       "| 24/07/2025 22:05:52 | undergraduate | 3 | 4 | Peaceful | Analyze the situation and handle it with intellect | No | 3 | 3 |\n",
       "| 24/07/2025 22:06:39 | undergraduate | 1 | 1 | Peaceful | Social support (friends, family)                   | No | 2 | 4 |\n",
       "| 24/07/2025 22:06:45 | undergraduate | 3 | 2 | Peaceful | Analyze the situation and handle it with intellect | No | 4 | 3 |\n",
       "| 24/07/2025 22:08:06 | undergraduate | 3 | 3 | Peaceful | Analyze the situation and handle it with intellect | No | 4 | 5 |\n",
       "\n"
      ],
      "text/plain": [
       "  timeStamp           schoolYear    peerPressure homePressure studyEnvironment\n",
       "1 24/07/2025 22:05:39 undergraduate 4            5            Noisy           \n",
       "2 24/07/2025 22:05:52 undergraduate 3            4            Peaceful        \n",
       "3 24/07/2025 22:06:39 undergraduate 1            1            Peaceful        \n",
       "4 24/07/2025 22:06:45 undergraduate 3            2            Peaceful        \n",
       "5 24/07/2025 22:08:06 undergraduate 3            3            Peaceful        \n",
       "  copingStrategy                                     badHabits\n",
       "1 Analyze the situation and handle it with intellect No       \n",
       "2 Analyze the situation and handle it with intellect No       \n",
       "3 Social support (friends, family)                   No       \n",
       "4 Analyze the situation and handle it with intellect No       \n",
       "5 Analyze the situation and handle it with intellect No       \n",
       "  academicCompetition stressIndex\n",
       "1 3                   5          \n",
       "2 3                   3          \n",
       "3 2                   4          \n",
       "4 4                   3          \n",
       "5 4                   5          "
      ]
     },
     "metadata": {},
     "output_type": "display_data"
    }
   ],
   "source": [
    "data <- data %>%\n",
    "    rename(\n",
    "        timeStamp = `Timestamp`,\n",
    "        schoolYear = `Your Academic Stage`,\n",
    "        peerPressure = `Peer pressure`,\n",
    "        homePressure = `Academic pressure from your home`,\n",
    "        studyEnvironment = `Study Environment`,\n",
    "        copingStrategy = `What coping strategy you use as a student?`,\n",
    "        badHabits = `Do you have any bad habits like smoking, drinking on a daily basis?`,\n",
    "        academicCompetition = `What would you rate the academic  competition in your student life`,\n",
    "        stressIndex = `Rate your academic stress index`\n",
    "\n",
    "    )\n",
    "data %>%\n",
    "    head(5)"
   ]
  },
  {
   "cell_type": "code",
   "execution_count": 4,
   "id": "ecd848de",
   "metadata": {
    "vscode": {
     "languageId": "r"
    }
   },
   "outputs": [
    {
     "data": {
      "text/html": [
       "<table class=\"dataframe\">\n",
       "<caption>A tibble: 5 × 9</caption>\n",
       "<thead>\n",
       "\t<tr><th scope=col>timeStamp</th><th scope=col>schoolYear</th><th scope=col>peerPressure</th><th scope=col>homePressure</th><th scope=col>studyEnvironment</th><th scope=col>copingStrategy</th><th scope=col>badHabits</th><th scope=col>academicCompetition</th><th scope=col>stressIndex</th></tr>\n",
       "\t<tr><th scope=col>&lt;chr&gt;</th><th scope=col>&lt;chr&gt;</th><th scope=col>&lt;dbl&gt;</th><th scope=col>&lt;fct&gt;</th><th scope=col>&lt;fct&gt;</th><th scope=col>&lt;fct&gt;</th><th scope=col>&lt;fct&gt;</th><th scope=col>&lt;fct&gt;</th><th scope=col>&lt;fct&gt;</th></tr>\n",
       "</thead>\n",
       "<tbody>\n",
       "\t<tr><td>24/07/2025 22:05:39</td><td>undergraduate</td><td>4</td><td>5</td><td>Noisy   </td><td>Analyze the situation and handle it with intellect</td><td>No</td><td>3</td><td>5</td></tr>\n",
       "\t<tr><td>24/07/2025 22:05:52</td><td>undergraduate</td><td>3</td><td>4</td><td>Peaceful</td><td>Analyze the situation and handle it with intellect</td><td>No</td><td>3</td><td>3</td></tr>\n",
       "\t<tr><td>24/07/2025 22:06:39</td><td>undergraduate</td><td>1</td><td>1</td><td>Peaceful</td><td>Social support (friends, family)                  </td><td>No</td><td>2</td><td>4</td></tr>\n",
       "\t<tr><td>24/07/2025 22:06:45</td><td>undergraduate</td><td>3</td><td>2</td><td>Peaceful</td><td>Analyze the situation and handle it with intellect</td><td>No</td><td>4</td><td>3</td></tr>\n",
       "\t<tr><td>24/07/2025 22:08:06</td><td>undergraduate</td><td>3</td><td>3</td><td>Peaceful</td><td>Analyze the situation and handle it with intellect</td><td>No</td><td>4</td><td>5</td></tr>\n",
       "</tbody>\n",
       "</table>\n"
      ],
      "text/latex": [
       "A tibble: 5 × 9\n",
       "\\begin{tabular}{lllllllll}\n",
       " timeStamp & schoolYear & peerPressure & homePressure & studyEnvironment & copingStrategy & badHabits & academicCompetition & stressIndex\\\\\n",
       " <chr> & <chr> & <dbl> & <fct> & <fct> & <fct> & <fct> & <fct> & <fct>\\\\\n",
       "\\hline\n",
       "\t 24/07/2025 22:05:39 & undergraduate & 4 & 5 & Noisy    & Analyze the situation and handle it with intellect & No & 3 & 5\\\\\n",
       "\t 24/07/2025 22:05:52 & undergraduate & 3 & 4 & Peaceful & Analyze the situation and handle it with intellect & No & 3 & 3\\\\\n",
       "\t 24/07/2025 22:06:39 & undergraduate & 1 & 1 & Peaceful & Social support (friends, family)                   & No & 2 & 4\\\\\n",
       "\t 24/07/2025 22:06:45 & undergraduate & 3 & 2 & Peaceful & Analyze the situation and handle it with intellect & No & 4 & 3\\\\\n",
       "\t 24/07/2025 22:08:06 & undergraduate & 3 & 3 & Peaceful & Analyze the situation and handle it with intellect & No & 4 & 5\\\\\n",
       "\\end{tabular}\n"
      ],
      "text/markdown": [
       "\n",
       "A tibble: 5 × 9\n",
       "\n",
       "| timeStamp &lt;chr&gt; | schoolYear &lt;chr&gt; | peerPressure &lt;dbl&gt; | homePressure &lt;fct&gt; | studyEnvironment &lt;fct&gt; | copingStrategy &lt;fct&gt; | badHabits &lt;fct&gt; | academicCompetition &lt;fct&gt; | stressIndex &lt;fct&gt; |\n",
       "|---|---|---|---|---|---|---|---|---|\n",
       "| 24/07/2025 22:05:39 | undergraduate | 4 | 5 | Noisy    | Analyze the situation and handle it with intellect | No | 3 | 5 |\n",
       "| 24/07/2025 22:05:52 | undergraduate | 3 | 4 | Peaceful | Analyze the situation and handle it with intellect | No | 3 | 3 |\n",
       "| 24/07/2025 22:06:39 | undergraduate | 1 | 1 | Peaceful | Social support (friends, family)                   | No | 2 | 4 |\n",
       "| 24/07/2025 22:06:45 | undergraduate | 3 | 2 | Peaceful | Analyze the situation and handle it with intellect | No | 4 | 3 |\n",
       "| 24/07/2025 22:08:06 | undergraduate | 3 | 3 | Peaceful | Analyze the situation and handle it with intellect | No | 4 | 5 |\n",
       "\n"
      ],
      "text/plain": [
       "  timeStamp           schoolYear    peerPressure homePressure studyEnvironment\n",
       "1 24/07/2025 22:05:39 undergraduate 4            5            Noisy           \n",
       "2 24/07/2025 22:05:52 undergraduate 3            4            Peaceful        \n",
       "3 24/07/2025 22:06:39 undergraduate 1            1            Peaceful        \n",
       "4 24/07/2025 22:06:45 undergraduate 3            2            Peaceful        \n",
       "5 24/07/2025 22:08:06 undergraduate 3            3            Peaceful        \n",
       "  copingStrategy                                     badHabits\n",
       "1 Analyze the situation and handle it with intellect No       \n",
       "2 Analyze the situation and handle it with intellect No       \n",
       "3 Social support (friends, family)                   No       \n",
       "4 Analyze the situation and handle it with intellect No       \n",
       "5 Analyze the situation and handle it with intellect No       \n",
       "  academicCompetition stressIndex\n",
       "1 3                   5          \n",
       "2 3                   3          \n",
       "3 2                   4          \n",
       "4 4                   3          \n",
       "5 4                   5          "
      ]
     },
     "metadata": {},
     "output_type": "display_data"
    }
   ],
   "source": [
    "data <- data %>%\n",
    "    mutate(studyEnvironment = as.factor(studyEnvironment),\n",
    "           copingStrategy = as.factor(copingStrategy),\n",
    "           badHabits = as.factor(badHabits),\n",
    "           academicCompetition = as.factor(academicCompetition),\n",
    "           homePressure = as.factor(homePressure),\n",
    "           stressIndex = as.factor(stressIndex)\n",
    "    )\n",
    "data %>%\n",
    "    head(5)"
   ]
  },
  {
   "cell_type": "code",
   "execution_count": 8,
   "id": "328403a5",
   "metadata": {
    "vscode": {
     "languageId": "r"
    }
   },
   "outputs": [
    {
     "data": {
      "image/png": "[encoded data removed]",
      "text/plain": [
       "plot without title"
      ]
     },
     "metadata": {
      "image/png": {
       "height": 420,
       "width": 420
      }
     },
     "output_type": "display_data"
    }
   ],
   "source": [
    "data %>%\n",
    "    ggplot(aes(stressIndex)) +\n",
    "    geom_bar(fill = \"blue2\") +\n",
    "    theme_bw() +\n",
    "    labs(x = \"Student Stress Index\",\n",
    "         y = \"Frequency\",\n",
    "         title = \"Barchart of Student Stress Index\")"
   ]
  },
  {
   "cell_type": "code",
   "execution_count": 7,
   "id": "56e67594",
   "metadata": {
    "vscode": {
     "languageId": "r"
    }
   },
   "outputs": [
    {
     "name": "stdout",
     "output_type": "stream",
     "text": [
      "Confusion Matrix and Statistics\n",
      "\n",
      "          Reference\n",
      "Prediction  1  2  3  4  5\n",
      "         1  5  0  0  1  0\n",
      "         2  0  0  0  0  0\n",
      "         3  0  0  0  0  0\n",
      "         4  1  9 31 50 14\n",
      "         5  0  0  5  5 19\n",
      "\n",
      "Overall Statistics\n",
      "                                          \n",
      "               Accuracy : 0.5286          \n",
      "                 95% CI : (0.4425, 0.6134)\n",
      "    No Information Rate : 0.4             \n",
      "    P-Value [Acc > NIR] : 0.001405        \n",
      "                                          \n",
      "                  Kappa : 0.274           \n",
      "                                          \n",
      " Mcnemar's Test P-Value : NA              \n",
      "\n",
      "Statistics by Class:\n",
      "\n",
      "                     Class: 1 Class: 2 Class: 3 Class: 4 Class: 5\n",
      "Sensitivity           0.83333  0.00000   0.0000   0.8929   0.5758\n",
      "Specificity           0.99254  1.00000   1.0000   0.3452   0.9065\n",
      "Pos Pred Value        0.83333      NaN      NaN   0.4762   0.6552\n",
      "Neg Pred Value        0.99254  0.93571   0.7429   0.8286   0.8739\n",
      "Prevalence            0.04286  0.06429   0.2571   0.4000   0.2357\n",
      "Detection Rate        0.03571  0.00000   0.0000   0.3571   0.1357\n",
      "Detection Prevalence  0.04286  0.00000   0.0000   0.7500   0.2071\n",
      "Balanced Accuracy     0.91294  0.50000   0.5000   0.6190   0.7411\n",
      "Accuracy: 0.5285714 \n",
      "\n",
      "Precision per class:\n",
      " Class: 1  Class: 2  Class: 3  Class: 4  Class: 5 \n",
      "0.8333333        NA        NA 0.4761905 0.6551724 \n",
      "\n",
      "Recall per class:\n",
      " Class: 1  Class: 2  Class: 3  Class: 4  Class: 5 \n",
      "0.8333333 0.0000000 0.0000000 0.8928571 0.5757576 \n",
      "\n",
      "F1-score per class:\n",
      " Class: 1  Class: 2  Class: 3  Class: 4  Class: 5 \n",
      "0.8333333        NA        NA 0.6211180 0.6129032 \n"
     ]
    },
    {
     "data": {
      "image/png": "[encoded data removed]",
      "text/plain": [
       "Plot with title \"Decision Tree for Stress Index\""
      ]
     },
     "metadata": {
      "image/png": {
       "height": 420,
       "width": 420
      }
     },
     "output_type": "display_data"
    }
   ],
   "source": [
    "library(rpart)\n",
    "library(rpart.plot)\n",
    "library(caret)\n",
    "data <- as.data.frame(data)\n",
    "\n",
    "model <- rpart(stressIndex ~ peerPressure + homePressure + studyEnvironment +\n",
    "               copingStrategy + badHabits + academicCompetition, \n",
    "               data = data, method = \"class\",\n",
    "               control = rpart.control(maxdepth = 3, minbucket = 2))\n",
    "\n",
    "rpart.plot(model, type=2, extra=104, fallen.leaves=TRUE, main=\"Decision Tree for Stress Index\")\n",
    "\n",
    "pred <- predict(model, data, type = \"class\")\n",
    "\n",
    "conf_mat <- confusionMatrix(pred, data$stressIndex)\n",
    "print(conf_mat)\n",
    "\n",
    "accuracy <- conf_mat$overall['Accuracy']\n",
    "precision <- conf_mat$byClass[,'Precision']\n",
    "recall <- conf_mat$byClass[,'Recall']\n",
    "f1 <- conf_mat$byClass[,'F1']\n",
    "\n",
    "cat(\"Accuracy:\", accuracy, \"\\n\\n\")\n",
    "cat(\"Precision per class:\\n\")\n",
    "print(precision)\n",
    "cat(\"\\nRecall per class:\\n\")\n",
    "print(recall)\n",
    "cat(\"\\nF1-score per class:\\n\")\n",
    "print(f1)\n"
   ]
  }
 ],
 "metadata": {
  "kernelspec": {
   "display_name": "R",
   "language": "R",
   "name": "ir"
  },
  "language_info": {
   "codemirror_mode": "r",
   "file_extension": ".r",
   "mimetype": "text/x-r-source",
   "name": "R",
   "pygments_lexer": "r",
   "version": "4.4.1"
  }
 },
 "nbformat": 4,
 "nbformat_minor": 5
}
